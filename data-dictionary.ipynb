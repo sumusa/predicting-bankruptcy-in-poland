{
 "cells": [
  {
   "cell_type": "markdown",
   "id": "c543e464-1708-4d40-81e8-a6d157797cf1",
   "metadata": {},
   "source": [
    "## Poland Bankruptcy Data "
   ]
  },
  {
   "cell_type": "markdown",
   "id": "b17285d1-6391-40c4-b280-65f6979b8146",
   "metadata": {},
   "source": [
    "Below is a summary of the features from the [Poland bankruptcy dataset](https://archive.ics.uci.edu/ml/datasets/Polish+companies+bankruptcy+data). "
   ]
  },
  {
   "cell_type": "markdown",
   "id": "7eb3852b-691f-492f-b3f8-2a17896c72e3",
   "metadata": {},
   "source": [
    "| feature    | description                                                                                                         |  \n",
    "| :--------- | :------------------------------------------------------------------------------------------------------------------ |  \n",
    "| **Attr1**  | net profit / total assets                                                                                           |  \n",
    "| **Attr2**  | total liabilities / total assets                                                                                    |  \n",
    "| **Attr3**  | working capital / total assets                                                                                      |  \n",
    "| **Attr4**  | current assets / short-term liabilities                                                                             |  \n",
    "| **Attr5**  | [(cash + short-term securities + receivables - short-term liabilities) / (operating expenses - depreciation)] * 365 |  \n",
    "| **Attr6**  | retained earnings / total assets                                                                                    |  \n",
    "| **Attr7**  | EBIT / total assets                                                                                                 |  \n",
    "| **Attr8**  | book value of equity / total liabilities                                                                            |  \n",
    "| **Attr9**  | sales / total assets                                                                                                |  \n",
    "| **Attr10** | equity / total assets                                                                                               |  \n",
    "| **Attr11** | (gross profit + extraordinary items + financial expenses) / total assets                                            |  \n",
    "| **Attr12** | gross profit / short-term liabilities                                                                               |  \n",
    "| **Attr13** | (gross profit + depreciation) / sales                                                                               |  \n",
    "| **Attr14** | (gross profit + interest) / total assets                                                                            |  \n",
    "| **Attr15** | (total liabilities * 365) / (gross profit + depreciation)                                                           |  \n",
    "| **Attr16** | (gross profit + depreciation) / total liabilities                                                                   |  \n",
    "| **Attr17** | total assets / total liabilities                                                                                    |  \n",
    "| **Attr18** | gross profit / total assets                                                                                         |  \n",
    "| **Attr19** | gross profit / sales                                                                                                |  \n",
    "| **Attr20** | (inventory * 365) / sales                                                                                           |  \n",
    "| **Attr21** | sales (n) / sales (n-1)                                                                                             |  \n",
    "| **Attr22** | profit on operating activities / total assets                                                                       |  \n",
    "| **Attr23** | net profit / sales                                                                                                  |  \n",
    "| **Attr24** | gross profit (in 3 years) / total assets                                                                            |  \n",
    "| **Attr25** | (equity - share capital) / total assets                                                                             |  \n",
    "| **Attr26** | (net profit + depreciation) / total liabilities                                                                     |  \n",
    "| **Attr27** | profit on operating activities / financial expenses                                                                 |  \n",
    "| **Attr28** | working capital / fixed assets                                                                                      |  \n",
    "| **Attr29** | logarithm of total assets                                                                                           |  \n",
    "| **Attr30** | (total liabilities - cash) / sales                                                                                  |  \n",
    "| **Attr31** | (gross profit + interest) / sales                                                                                   |  \n",
    "| **Attr32** | (current liabilities * 365) / cost of products sold                                                                 |  \n",
    "| **Attr33** | operating expenses / short-term liabilities                                                                         |  \n",
    "| **Attr34** | operating expenses / total liabilities                                                                              |  \n",
    "| **Attr35** | profit on sales / total assets                                                                                      |  \n",
    "| **Attr36** | total sales / total assets                                                                                          |  \n",
    "| **Attr37** | (current assets - inventories) / long-term liabilities                                                              |  \n",
    "| **Attr38** | constant capital / total assets                                                                                     |  \n",
    "| **Attr39** | profit on sales / sales                                                                                             |  \n",
    "| **Attr40** | (current assets - inventory - receivables) / short-term liabilities                                                 |  \n",
    "| **Attr41** | total liabilities / ((profit on operating activities + depreciation) * (12/365))                                    |  \n",
    "| **Attr42** | profit on operating activities / sales                                                                              |  \n",
    "| **Attr43** | rotation receivables + inventory turnover in days                                                                   |  \n",
    "| **Attr44** | (receivables * 365) / sales                                                                                         |  \n",
    "| **Attr45** | net profit / inventory                                                                                              |  \n",
    "| **Attr46** | (current assets - inventory) / short-term liabilities                                                               |  \n",
    "| **Attr47** | (inventory * 365) / cost of products sold                                                                           |  \n",
    "| **Attr48** | EBITDA (profit on operating activities - depreciation) / total assets                                               |  \n",
    "| **Attr49** | EBITDA (profit on operating activities - depreciation) / sales                                                      |  \n",
    "| **Attr50** | current assets / total liabilities                                                                                  |  \n",
    "| **Attr51** | short-term liabilities / total assets                                                                               |  \n",
    "| **Attr52** | (short-term liabilities * 365) / cost of products sold)                                                             |  \n",
    "| **Attr53** | equity / fixed assets                                                                                               |  \n",
    "| **Attr54** | constant capital / fixed assets                                                                                     |  \n",
    "| **Attr55** | working capital                                                                                                     |  \n",
    "| **Attr56** | (sales - cost of products sold) / sales                                                                             |  \n",
    "| **Attr57** | (current assets - inventory - short-term liabilities) / (sales - gross profit - depreciation)                       |  \n",
    "| **Attr58** | total costs /total sales                                                                                            |  \n",
    "| **Attr59** | long-term liabilities / equity                                                                                      |  \n",
    "| **Attr60** | sales / inventory                                                                                                   |  \n",
    "| **Attr61** | sales / receivables                                                                                                 |  \n",
    "| **Attr62** | (short-term liabilities *365) / sales                                                                               |  \n",
    "| **Attr63** | sales / short-term liabilities                                                                                      |  \n",
    "| **Attr64** | sales / fixed assets                                                                                                |  \n",
    "| **class** | Whether company went bankrupt at end of forecasting period (2013) 0 - False, 1 - True |"
   ]
  },
  {
   "cell_type": "code",
   "execution_count": null,
   "id": "f4e80999-8887-4aa1-96a7-cb0d0492f9bf",
   "metadata": {},
   "outputs": [],
   "source": []
  }
 ],
 "metadata": {
  "kernelspec": {
   "display_name": "Python 3 (ipykernel)",
   "language": "python",
   "name": "python3"
  },
  "language_info": {
   "codemirror_mode": {
    "name": "ipython",
    "version": 3
   },
   "file_extension": ".py",
   "mimetype": "text/x-python",
   "name": "python",
   "nbconvert_exporter": "python",
   "pygments_lexer": "ipython3",
   "version": "3.9.12"
  }
 },
 "nbformat": 4,
 "nbformat_minor": 5
}
